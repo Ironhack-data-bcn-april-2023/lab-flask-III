{
 "cells": [
  {
   "cell_type": "code",
   "execution_count": 49,
   "id": "ba9ae96e",
   "metadata": {},
   "outputs": [],
   "source": [
    "import requests"
   ]
  },
  {
   "cell_type": "code",
   "execution_count": 52,
   "id": "883ed721",
   "metadata": {},
   "outputs": [],
   "source": [
    "new_employee = {\n",
    "    \"emp_no\": \"000000\",\n",
    "    \"birth_date\": \"1953-09-02\",\n",
    "    \"first_name\": \"Paul\",\n",
    "    \"last_name\": \"Bancelin\",\n",
    "    \"gender\":\"M\",\n",
    "    \"hire_date\": \"1986-06-26\"} "
   ]
  },
  {
   "cell_type": "code",
   "execution_count": 54,
   "id": "2d436392",
   "metadata": {},
   "outputs": [
    {
     "data": {
      "text/plain": [
       "<Response [500]>"
      ]
     },
     "execution_count": 54,
     "metadata": {},
     "output_type": "execute_result"
    }
   ],
   "source": [
    "requests.post(\"http://127.0.0.1:9000/insert-into-employees\", params = new_employee)"
   ]
  },
  {
   "cell_type": "code",
   "execution_count": null,
   "id": "d0c53bf6",
   "metadata": {},
   "outputs": [],
   "source": []
  },
  {
   "cell_type": "code",
   "execution_count": null,
   "id": "6afe1f1a",
   "metadata": {},
   "outputs": [],
   "source": []
  },
  {
   "cell_type": "code",
   "execution_count": null,
   "id": "707e279d",
   "metadata": {},
   "outputs": [],
   "source": []
  }
 ],
 "metadata": {
  "kernelspec": {
   "display_name": "ironhack",
   "language": "python",
   "name": "ironhack"
  },
  "language_info": {
   "codemirror_mode": {
    "name": "ipython",
    "version": 3
   },
   "file_extension": ".py",
   "mimetype": "text/x-python",
   "name": "python",
   "nbconvert_exporter": "python",
   "pygments_lexer": "ipython3",
   "version": "3.9.16"
  }
 },
 "nbformat": 4,
 "nbformat_minor": 5
}
